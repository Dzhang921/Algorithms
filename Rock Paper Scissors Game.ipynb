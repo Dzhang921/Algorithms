{
 "cells": [
  {
   "cell_type": "code",
   "execution_count": null,
   "id": "7b18d87d",
   "metadata": {},
   "outputs": [
    {
     "name": "stdout",
     "output_type": "stream",
     "text": [
      "Please enter your input: Rock, Paper, Scissors or Quit\n"
     ]
    }
   ],
   "source": [
    "def Rock_Paper_Scissors():\n",
    "    # Define the rule and initialize the count and scoreboard\n",
    "    win = {'rock':'paper', 'paper':'scissors', 'scissors':'rock'}\n",
    "    gesture = {'rock':0, 'paper':0, 'scissors':0}\n",
    "    score_board = {'user':0, \"computer\":0, \"draw\":0,'games':0}\n",
    "    #Let computer read the current situation and make the decision\n",
    "    import random\n",
    "\n",
    "    # Sort the current situation from the descending order\n",
    "    while True:\n",
    "        current = sorted(gesture.items(), key = lambda k: k[1], reverse = True)\n",
    "\n",
    "        #if all three are equal, computer will pick randomly\n",
    "        if current[0][1]==current[1][1] and current[1][1] == current[2][1]:\n",
    "            computer = random.choice([x for x in gesture.keys()])\n",
    "\n",
    "        #else if there is 1 leading, then pick the one can win over it\n",
    "        elif current[0][1] > current[1][1]:\n",
    "            computer = win[current[0][0]]\n",
    "\n",
    "        #else if first two has the same occurence, then pick the one has the largest win or draw chance\n",
    "        elif current[0][1] == current[1][1]:\n",
    "            if win[current[0][0]] == current[1][0]:\n",
    "                computer = current[1][0]\n",
    "            else:\n",
    "                computer = current[0][0]\n",
    "\n",
    "        #Let user input his decision\n",
    "        print(\"Please enter your input: Rock, Paper, Scissors or Quit\")\n",
    "        x = input()\n",
    "\n",
    "        # If user choose to quit, then print the current score and clear all the record\n",
    "        if x.lower() == 'quit':\n",
    "            print(\"You have played {} games and won {} times.\".format(score_board['games'], score_board['user']))\n",
    "            gesture = {'rock':0, 'paper':0, 'scissors':0}\n",
    "            score_board = {'user':0, \"computer\":0, \"draw\":0,'games':0}\n",
    "            \n",
    "\n",
    "        # If the user's input is valid, then start the game.\n",
    "        if x.lower() in gesture.keys():\n",
    "            user = x.lower()\n",
    "            gesture[user] += 1\n",
    "\n",
    "            if user == computer:\n",
    "                score_board['draw'] += 1\n",
    "                score_board['games'] += 1\n",
    "                print('Draw! Try again.')\n",
    "            elif win[user] == computer:\n",
    "                score_board['computer'] += 1\n",
    "                score_board['games'] += 1\n",
    "                print('Oops! You lose.')\n",
    "            else:\n",
    "                score_board['user'] += 1\n",
    "                score_board['games'] += 1\n",
    "                print('WOW! BIG WIN!')\n",
    "\n",
    "        # Else the system will ask the user to reinput the value\n",
    "        else:\n",
    "            print(\"Please enter correct input. You can enter rock, paper, scissors or quit\")\n",
    "            \n",
    "Rock_Paper_Scissors()"
   ]
  }
 ],
 "metadata": {
  "kernelspec": {
   "display_name": "Python 3",
   "language": "python",
   "name": "python3"
  },
  "language_info": {
   "codemirror_mode": {
    "name": "ipython",
    "version": 3
   },
   "file_extension": ".py",
   "mimetype": "text/x-python",
   "name": "python",
   "nbconvert_exporter": "python",
   "pygments_lexer": "ipython3",
   "version": "3.9.5"
  }
 },
 "nbformat": 4,
 "nbformat_minor": 5
}
